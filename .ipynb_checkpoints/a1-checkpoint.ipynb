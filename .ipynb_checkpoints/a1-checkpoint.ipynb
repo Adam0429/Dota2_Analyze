{
 "cells": [
  {
   "cell_type": "markdown",
   "metadata": {},
   "source": [
    "# COMP41680 -  API Assignment\n",
    "#### Wang Feihong \n",
    "#### Student Number  :  15209502"
   ]
  },
  {
   "cell_type": "markdown",
   "metadata": {},
   "source": [
    "### Task 1: Data identification\n",
    "### API Chosen:\n",
    "\n",
    "A single API that was chosen for this assignment was that provided by https://docs.opendota.com/\n",
    "\n",
    "The API is used to response the data of Dota2 which is my favorite game. \n",
    "\n",
    "I can improve the winning rate of Dota2 games by analysing Dota2 data.\n",
    "\n",
    "The API is freely available, no need to be used by API key, limited to 50,000 free calls per month and 60 requests/minute.\n",
    "\n",
    "In this assignment, i used two APIs.\n",
    "\n",
    "First one is https://docs.opendota.com/#tag/players which used to get match ids from the my account.\n",
    "    \n",
    "Then i used the game ids in second API: https://docs.opendota.com/#tag/matches ,this API return many informations in the match.\n",
    "\n"
   ]
  },
  {
   "cell_type": "markdown",
   "metadata": {},
   "source": [
    "#### Dota2 introduction\n",
    "Dota 2 is a multiplayer online battle arena (MOBA) video game developed and published by Valve. Dota 2 is played in matches between two teams(Radiant and Dire) of five players, with each team occupying and defending their own separate base on the map. Each of the ten players independently controls a powerful character, known as a \"hero\", who all have unique abilities and differing styles of play. During a match, players collect experience points and items for their heroes to successfully defeat the opposing team's heroes in player versus player combat.Each team has 11 towers to protect the base in front of the base. A team wins by being the first to destroy the other team's \"Ancient\", a large structure located within their base."
   ]
  },
  {
   "cell_type": "markdown",
   "metadata": {},
   "source": [
    "### Task 2: Data collection"
   ]
  },
  {
   "cell_type": "code",
   "execution_count": 2,
   "metadata": {},
   "outputs": [],
   "source": [
    "import requests\n",
    "import pandas as pd \n",
    "from tqdm import tqdm"
   ]
  },
  {
   "cell_type": "markdown",
   "metadata": {},
   "source": [
    "The following 2 functions were written to use the 2 APIs.\n",
    "\n",
    "function getMatchId is used to get match ids from the one account. \n",
    "\n",
    "function getMatchData is used to get match informations which used the result of getMatchId."
   ]
  },
  {
   "cell_type": "code",
   "execution_count": 2,
   "metadata": {},
   "outputs": [],
   "source": [
    "def getMatchId(user_id,number):\n",
    "\turl = 'https://api.opendota.com/api/players/%s/Matches?limit=%s'%(user_id,str(number)) \n",
    "    # number varibale is used to indicate the number of matches will be returned\n",
    "\tmatches = requests.get(url).json()\n",
    "\tmatch_ids = [match['match_id'] for match in matches]\n",
    "\treturn match_ids\n",
    "\n",
    "def getMatchData(match_id):\n",
    "\tmatch_url = 'https://api.opendota.com/api/matches/%s'%(match_id)\n",
    "\tmatch_data = requests.get(match_url).json()\n",
    "\treturn match_data"
   ]
  },
  {
   "cell_type": "markdown",
   "metadata": {},
   "source": [
    "The following code retreives the raw data using the above Functions from the API and writes it to a CSV file.\n",
    "\n",
    "I used choosed my account id to be account_id and choose 1400 to be the number of matches."
   ]
  },
  {
   "cell_type": "code",
   "execution_count": 82,
   "metadata": {},
   "outputs": [],
   "source": [
    "my_id = '904606353' # my Dota2 account id"
   ]
  },
  {
   "cell_type": "code",
   "execution_count": null,
   "metadata": {},
   "outputs": [],
   "source": [
    "import time\n",
    "match_ids = getMatchId(my_id,1400)\n",
    "raw_data = []\n",
    "for match_id in tqdm(match_ids):\n",
    "    raw_data.append(getMatchData(match_id))"
   ]
  },
  {
   "cell_type": "code",
   "execution_count": null,
   "metadata": {},
   "outputs": [],
   "source": [
    "# save data to csv file\n",
    "df = pd.DataFrame(raw_data,index=None)\n",
    "df.to_csv('raw_data.csv')"
   ]
  },
  {
   "cell_type": "markdown",
   "metadata": {},
   "source": [
    "### Task 3: Data preparation and analysis: "
   ]
  },
  {
   "cell_type": "markdown",
   "metadata": {},
   "source": [
    "This data needs extensive cleaning and manipulation before it can be used."
   ]
  },
  {
   "cell_type": "code",
   "execution_count": 380,
   "metadata": {},
   "outputs": [],
   "source": [
    "raw_data = pd.read_csv(\"raw_data.csv\")"
   ]
  },
  {
   "cell_type": "code",
   "execution_count": 381,
   "metadata": {},
   "outputs": [
    {
     "data": {
      "text/plain": [
       "Index(['Unnamed: 0', 'all_word_counts', 'barracks_status_dire',\n",
       "       'barracks_status_radiant', 'chat', 'cluster', 'comeback', 'cosmetics',\n",
       "       'dire_score', 'dire_team_id', 'draft_timings', 'duration', 'engine',\n",
       "       'first_blood_time', 'game_mode', 'human_players', 'leagueid',\n",
       "       'lobby_type', 'loss', 'match_id', 'match_seq_num', 'my_word_counts',\n",
       "       'negative_votes', 'objectives', 'patch', 'picks_bans', 'players',\n",
       "       'positive_votes', 'radiant_gold_adv', 'radiant_score',\n",
       "       'radiant_team_id', 'radiant_win', 'radiant_xp_adv', 'region',\n",
       "       'replay_salt', 'replay_url', 'series_id', 'series_type', 'skill',\n",
       "       'start_time', 'stomp', 'teamfights', 'throw', 'tower_status_dire',\n",
       "       'tower_status_radiant', 'version'],\n",
       "      dtype='object')"
      ]
     },
     "execution_count": 381,
     "metadata": {},
     "output_type": "execute_result"
    }
   ],
   "source": [
    "raw_data.columns"
   ]
  },
  {
   "cell_type": "code",
   "execution_count": 382,
   "metadata": {
    "scrolled": true
   },
   "outputs": [
    {
     "data": {
      "text/html": [
       "<div>\n",
       "<style scoped>\n",
       "    .dataframe tbody tr th:only-of-type {\n",
       "        vertical-align: middle;\n",
       "    }\n",
       "\n",
       "    .dataframe tbody tr th {\n",
       "        vertical-align: top;\n",
       "    }\n",
       "\n",
       "    .dataframe thead th {\n",
       "        text-align: right;\n",
       "    }\n",
       "</style>\n",
       "<table border=\"1\" class=\"dataframe\">\n",
       "  <thead>\n",
       "    <tr style=\"text-align: right;\">\n",
       "      <th></th>\n",
       "      <th>Unnamed: 0</th>\n",
       "      <th>all_word_counts</th>\n",
       "      <th>barracks_status_dire</th>\n",
       "      <th>barracks_status_radiant</th>\n",
       "      <th>chat</th>\n",
       "      <th>cluster</th>\n",
       "      <th>comeback</th>\n",
       "      <th>cosmetics</th>\n",
       "      <th>dire_score</th>\n",
       "      <th>dire_team_id</th>\n",
       "      <th>...</th>\n",
       "      <th>series_id</th>\n",
       "      <th>series_type</th>\n",
       "      <th>skill</th>\n",
       "      <th>start_time</th>\n",
       "      <th>stomp</th>\n",
       "      <th>teamfights</th>\n",
       "      <th>throw</th>\n",
       "      <th>tower_status_dire</th>\n",
       "      <th>tower_status_radiant</th>\n",
       "      <th>version</th>\n",
       "    </tr>\n",
       "  </thead>\n",
       "  <tbody>\n",
       "    <tr>\n",
       "      <th>0</th>\n",
       "      <td>0</td>\n",
       "      <td>NaN</td>\n",
       "      <td>0</td>\n",
       "      <td>63</td>\n",
       "      <td>NaN</td>\n",
       "      <td>135</td>\n",
       "      <td>NaN</td>\n",
       "      <td>NaN</td>\n",
       "      <td>16</td>\n",
       "      <td>NaN</td>\n",
       "      <td>...</td>\n",
       "      <td>0.0</td>\n",
       "      <td>0.0</td>\n",
       "      <td>1.0</td>\n",
       "      <td>1581890503</td>\n",
       "      <td>NaN</td>\n",
       "      <td>NaN</td>\n",
       "      <td>NaN</td>\n",
       "      <td>0</td>\n",
       "      <td>1983</td>\n",
       "      <td>NaN</td>\n",
       "    </tr>\n",
       "    <tr>\n",
       "      <th>1</th>\n",
       "      <td>1</td>\n",
       "      <td>NaN</td>\n",
       "      <td>51</td>\n",
       "      <td>51</td>\n",
       "      <td>NaN</td>\n",
       "      <td>137</td>\n",
       "      <td>NaN</td>\n",
       "      <td>NaN</td>\n",
       "      <td>43</td>\n",
       "      <td>NaN</td>\n",
       "      <td>...</td>\n",
       "      <td>0.0</td>\n",
       "      <td>0.0</td>\n",
       "      <td>1.0</td>\n",
       "      <td>1581887807</td>\n",
       "      <td>NaN</td>\n",
       "      <td>NaN</td>\n",
       "      <td>NaN</td>\n",
       "      <td>1990</td>\n",
       "      <td>262</td>\n",
       "      <td>NaN</td>\n",
       "    </tr>\n",
       "    <tr>\n",
       "      <th>2</th>\n",
       "      <td>2</td>\n",
       "      <td>NaN</td>\n",
       "      <td>63</td>\n",
       "      <td>0</td>\n",
       "      <td>NaN</td>\n",
       "      <td>132</td>\n",
       "      <td>NaN</td>\n",
       "      <td>NaN</td>\n",
       "      <td>31</td>\n",
       "      <td>NaN</td>\n",
       "      <td>...</td>\n",
       "      <td>0.0</td>\n",
       "      <td>0.0</td>\n",
       "      <td>1.0</td>\n",
       "      <td>1581885468</td>\n",
       "      <td>NaN</td>\n",
       "      <td>NaN</td>\n",
       "      <td>NaN</td>\n",
       "      <td>2047</td>\n",
       "      <td>0</td>\n",
       "      <td>NaN</td>\n",
       "    </tr>\n",
       "    <tr>\n",
       "      <th>3</th>\n",
       "      <td>3</td>\n",
       "      <td>{'ggg': 1, 'we': 2, 'lost': 2, 'fuck': 2, 'ggs...</td>\n",
       "      <td>63</td>\n",
       "      <td>0</td>\n",
       "      <td>[{'time': -60, 'type': 'chatwheel', 'key': '62...</td>\n",
       "      <td>131</td>\n",
       "      <td>720.0</td>\n",
       "      <td>{'4722': 3, '4723': 3, '4737': 3, '4738': 3, '...</td>\n",
       "      <td>48</td>\n",
       "      <td>NaN</td>\n",
       "      <td>...</td>\n",
       "      <td>0.0</td>\n",
       "      <td>0.0</td>\n",
       "      <td>1.0</td>\n",
       "      <td>1581873380</td>\n",
       "      <td>26745.0</td>\n",
       "      <td>[{'start': 323, 'end': 369, 'last_death': 354,...</td>\n",
       "      <td>NaN</td>\n",
       "      <td>2038</td>\n",
       "      <td>0</td>\n",
       "      <td>21.0</td>\n",
       "    </tr>\n",
       "    <tr>\n",
       "      <th>4</th>\n",
       "      <td>4</td>\n",
       "      <td>NaN</td>\n",
       "      <td>3</td>\n",
       "      <td>63</td>\n",
       "      <td>NaN</td>\n",
       "      <td>191</td>\n",
       "      <td>NaN</td>\n",
       "      <td>NaN</td>\n",
       "      <td>21</td>\n",
       "      <td>NaN</td>\n",
       "      <td>...</td>\n",
       "      <td>0.0</td>\n",
       "      <td>0.0</td>\n",
       "      <td>1.0</td>\n",
       "      <td>1581870851</td>\n",
       "      <td>NaN</td>\n",
       "      <td>NaN</td>\n",
       "      <td>NaN</td>\n",
       "      <td>4</td>\n",
       "      <td>1854</td>\n",
       "      <td>NaN</td>\n",
       "    </tr>\n",
       "  </tbody>\n",
       "</table>\n",
       "<p>5 rows × 46 columns</p>\n",
       "</div>"
      ],
      "text/plain": [
       "   Unnamed: 0                                    all_word_counts  \\\n",
       "0           0                                                NaN   \n",
       "1           1                                                NaN   \n",
       "2           2                                                NaN   \n",
       "3           3  {'ggg': 1, 'we': 2, 'lost': 2, 'fuck': 2, 'ggs...   \n",
       "4           4                                                NaN   \n",
       "\n",
       "   barracks_status_dire  barracks_status_radiant  \\\n",
       "0                     0                       63   \n",
       "1                    51                       51   \n",
       "2                    63                        0   \n",
       "3                    63                        0   \n",
       "4                     3                       63   \n",
       "\n",
       "                                                chat  cluster  comeback  \\\n",
       "0                                                NaN      135       NaN   \n",
       "1                                                NaN      137       NaN   \n",
       "2                                                NaN      132       NaN   \n",
       "3  [{'time': -60, 'type': 'chatwheel', 'key': '62...      131     720.0   \n",
       "4                                                NaN      191       NaN   \n",
       "\n",
       "                                           cosmetics  dire_score  \\\n",
       "0                                                NaN          16   \n",
       "1                                                NaN          43   \n",
       "2                                                NaN          31   \n",
       "3  {'4722': 3, '4723': 3, '4737': 3, '4738': 3, '...          48   \n",
       "4                                                NaN          21   \n",
       "\n",
       "   dire_team_id   ...    series_id  series_type  skill  start_time    stomp  \\\n",
       "0           NaN   ...          0.0          0.0    1.0  1581890503      NaN   \n",
       "1           NaN   ...          0.0          0.0    1.0  1581887807      NaN   \n",
       "2           NaN   ...          0.0          0.0    1.0  1581885468      NaN   \n",
       "3           NaN   ...          0.0          0.0    1.0  1581873380  26745.0   \n",
       "4           NaN   ...          0.0          0.0    1.0  1581870851      NaN   \n",
       "\n",
       "                                          teamfights  throw  \\\n",
       "0                                                NaN    NaN   \n",
       "1                                                NaN    NaN   \n",
       "2                                                NaN    NaN   \n",
       "3  [{'start': 323, 'end': 369, 'last_death': 354,...    NaN   \n",
       "4                                                NaN    NaN   \n",
       "\n",
       "   tower_status_dire  tower_status_radiant  version  \n",
       "0                  0                  1983      NaN  \n",
       "1               1990                   262      NaN  \n",
       "2               2047                     0      NaN  \n",
       "3               2038                     0     21.0  \n",
       "4                  4                  1854      NaN  \n",
       "\n",
       "[5 rows x 46 columns]"
      ]
     },
     "execution_count": 382,
     "metadata": {},
     "output_type": "execute_result"
    }
   ],
   "source": [
    "raw_data.head()"
   ]
  },
  {
   "cell_type": "markdown",
   "metadata": {},
   "source": [
    "### Data cleaning"
   ]
  },
  {
   "cell_type": "markdown",
   "metadata": {},
   "source": [
    "1. remove columns that only have NA or one kind of value. \n",
    "Because the column is useless in analysis if it only has one value."
   ]
  },
  {
   "cell_type": "code",
   "execution_count": 383,
   "metadata": {},
   "outputs": [],
   "source": [
    "import numpy as np"
   ]
  },
  {
   "cell_type": "code",
   "execution_count": 384,
   "metadata": {},
   "outputs": [],
   "source": [
    "# the column only have NA value\n",
    "Na_columns = []\n",
    "for column in raw_data.columns:\n",
    "    if raw_data[column].isna().all():\n",
    "        Na_columns.append(column)"
   ]
  },
  {
   "cell_type": "code",
   "execution_count": 385,
   "metadata": {},
   "outputs": [
    {
     "data": {
      "text/plain": [
       "[]"
      ]
     },
     "execution_count": 385,
     "metadata": {},
     "output_type": "execute_result"
    }
   ],
   "source": [
    "Na_columns"
   ]
  },
  {
   "cell_type": "code",
   "execution_count": 386,
   "metadata": {},
   "outputs": [],
   "source": [
    "# remove Na columns\n",
    "data = raw_data.drop(Na_columns,axis=1)"
   ]
  },
  {
   "cell_type": "code",
   "execution_count": 387,
   "metadata": {},
   "outputs": [],
   "source": [
    "one_value_columns = []\n",
    "for column in data.columns:\n",
    "    if len(list(set(data[column]))) == 1:\n",
    "        one_value_columns.append(column)"
   ]
  },
  {
   "cell_type": "code",
   "execution_count": 388,
   "metadata": {},
   "outputs": [
    {
     "data": {
      "text/plain": [
       "['engine', 'human_players', 'leagueid']"
      ]
     },
     "execution_count": 388,
     "metadata": {},
     "output_type": "execute_result"
    }
   ],
   "source": [
    "one_value_columns"
   ]
  },
  {
   "cell_type": "code",
   "execution_count": 389,
   "metadata": {},
   "outputs": [],
   "source": [
    "# remove one value columns\n",
    "data = data.drop(one_value_columns,axis=1)"
   ]
  },
  {
   "cell_type": "markdown",
   "metadata": {},
   "source": [
    "2.remove the columns that have more than 80% Na. Because these columns lack data to analyze."
   ]
  },
  {
   "cell_type": "code",
   "execution_count": 390,
   "metadata": {},
   "outputs": [
    {
     "data": {
      "text/plain": [
       "Unnamed: 0                 0.000000\n",
       "all_word_counts            0.674286\n",
       "barracks_status_dire       0.000000\n",
       "barracks_status_radiant    0.000000\n",
       "chat                       0.674286\n",
       "cluster                    0.000000\n",
       "comeback                   0.852143\n",
       "cosmetics                  0.674286\n",
       "dire_score                 0.000000\n",
       "dire_team_id               0.994286\n",
       "draft_timings              0.674286\n",
       "duration                   0.000000\n",
       "first_blood_time           0.000000\n",
       "game_mode                  0.000000\n",
       "lobby_type                 0.000000\n",
       "loss                       0.822143\n",
       "match_id                   0.000000\n",
       "match_seq_num              0.000000\n",
       "my_word_counts             0.674286\n",
       "negative_votes             0.000000\n",
       "objectives                 0.674286\n",
       "patch                      0.000000\n",
       "picks_bans                 0.505000\n",
       "players                    0.000000\n",
       "positive_votes             0.000000\n",
       "radiant_gold_adv           0.674286\n",
       "radiant_score              0.000000\n",
       "radiant_team_id            0.994286\n",
       "radiant_win                0.000000\n",
       "radiant_xp_adv             0.674286\n",
       "region                     0.167143\n",
       "replay_salt                0.007143\n",
       "replay_url                 0.007143\n",
       "series_id                  0.007143\n",
       "series_type                0.007143\n",
       "skill                      0.095000\n",
       "start_time                 0.000000\n",
       "stomp                      0.852143\n",
       "teamfights                 0.674286\n",
       "throw                      0.822143\n",
       "tower_status_dire          0.000000\n",
       "tower_status_radiant       0.000000\n",
       "version                    0.674286\n",
       "dtype: float64"
      ]
     },
     "execution_count": 390,
     "metadata": {},
     "output_type": "execute_result"
    }
   ],
   "source": [
    "# the percentage of Na in each columns\n",
    "data.isna().sum(axis=0)/len(data) "
   ]
  },
  {
   "cell_type": "code",
   "execution_count": 391,
   "metadata": {},
   "outputs": [],
   "source": [
    "eighty_Na_columns = []\n",
    "for column in data.columns:\n",
    "    if data[column].isna().sum(axis=0)/len(data)>0.8:\n",
    "        eighty_Na_columns.append(column)\n"
   ]
  },
  {
   "cell_type": "code",
   "execution_count": 392,
   "metadata": {},
   "outputs": [
    {
     "data": {
      "text/plain": [
       "['comeback', 'dire_team_id', 'loss', 'radiant_team_id', 'stomp', 'throw']"
      ]
     },
     "execution_count": 392,
     "metadata": {},
     "output_type": "execute_result"
    }
   ],
   "source": [
    "eighty_Na_columns\n",
    "# the columns which have more then 80% Na"
   ]
  },
  {
   "cell_type": "code",
   "execution_count": 393,
   "metadata": {},
   "outputs": [],
   "source": [
    "# remove them\n",
    "data = data.drop(eighty_Na_columns,axis=1)"
   ]
  },
  {
   "cell_type": "markdown",
   "metadata": {},
   "source": [
    "3.According to the columns explaination in https://docs.opendota.com/#tag/matchesremove. I removed some columns i will not use in this assignment."
   ]
  },
  {
   "cell_type": "code",
   "execution_count": 394,
   "metadata": {},
   "outputs": [],
   "source": [
    "data = data.drop(['Unnamed: 0','all_word_counts','chat','cluster','cosmetics','draft_timings',\n",
    "           'lobby_type','game_mode','match_id','match_seq_num',\n",
    "              'negative_votes','objectives','patch','picks_bans','players','positive_votes',\n",
    "               'region','replay_salt','replay_url','series_id','series_type','skill','start_time',\n",
    "                  'teamfights','version','radiant_gold_adv','radiant_xp_adv','my_word_counts'],axis=1)"
   ]
  },
  {
   "cell_type": "code",
   "execution_count": 395,
   "metadata": {},
   "outputs": [
    {
     "data": {
      "text/plain": [
       "barracks_status_dire       0\n",
       "barracks_status_radiant    0\n",
       "dire_score                 0\n",
       "duration                   0\n",
       "first_blood_time           0\n",
       "radiant_score              0\n",
       "radiant_win                0\n",
       "tower_status_dire          0\n",
       "tower_status_radiant       0\n",
       "dtype: int64"
      ]
     },
     "execution_count": 395,
     "metadata": {},
     "output_type": "execute_result"
    }
   ],
   "source": [
    "# check if it has missing value\n",
    "data.isna().sum(axis=0)"
   ]
  },
  {
   "cell_type": "code",
   "execution_count": 396,
   "metadata": {},
   "outputs": [
    {
     "data": {
      "text/html": [
       "<div>\n",
       "<style scoped>\n",
       "    .dataframe tbody tr th:only-of-type {\n",
       "        vertical-align: middle;\n",
       "    }\n",
       "\n",
       "    .dataframe tbody tr th {\n",
       "        vertical-align: top;\n",
       "    }\n",
       "\n",
       "    .dataframe thead th {\n",
       "        text-align: right;\n",
       "    }\n",
       "</style>\n",
       "<table border=\"1\" class=\"dataframe\">\n",
       "  <thead>\n",
       "    <tr style=\"text-align: right;\">\n",
       "      <th></th>\n",
       "      <th>duration</th>\n",
       "      <th>first_blood_time</th>\n",
       "    </tr>\n",
       "  </thead>\n",
       "  <tbody>\n",
       "    <tr>\n",
       "      <th>0</th>\n",
       "      <td>2001</td>\n",
       "      <td>201</td>\n",
       "    </tr>\n",
       "    <tr>\n",
       "      <th>1</th>\n",
       "      <td>2243</td>\n",
       "      <td>84</td>\n",
       "    </tr>\n",
       "    <tr>\n",
       "      <th>2</th>\n",
       "      <td>1829</td>\n",
       "      <td>3</td>\n",
       "    </tr>\n",
       "    <tr>\n",
       "      <th>3</th>\n",
       "      <td>2091</td>\n",
       "      <td>119</td>\n",
       "    </tr>\n",
       "    <tr>\n",
       "      <th>4</th>\n",
       "      <td>2081</td>\n",
       "      <td>12</td>\n",
       "    </tr>\n",
       "  </tbody>\n",
       "</table>\n",
       "</div>"
      ],
      "text/plain": [
       "   duration  first_blood_time\n",
       "0      2001               201\n",
       "1      2243                84\n",
       "2      1829                 3\n",
       "3      2091               119\n",
       "4      2081                12"
      ]
     },
     "execution_count": 396,
     "metadata": {},
     "output_type": "execute_result"
    }
   ],
   "source": [
    "data[['duration','first_blood_time']].head()"
   ]
  },
  {
   "cell_type": "markdown",
   "metadata": {},
   "source": [
    "Changing the units of 'duration','first_blood_time' columns from seconds to mintues and keeping one decimal place that can be easier visualised and analyze."
   ]
  },
  {
   "cell_type": "code",
   "execution_count": 397,
   "metadata": {},
   "outputs": [],
   "source": [
    "data['duration'] = round(data['duration']/60,1)\n",
    "data['first_blood_time'] = round(data['first_blood_time']/60,1)"
   ]
  },
  {
   "cell_type": "code",
   "execution_count": 398,
   "metadata": {},
   "outputs": [
    {
     "data": {
      "text/html": [
       "<div>\n",
       "<style scoped>\n",
       "    .dataframe tbody tr th:only-of-type {\n",
       "        vertical-align: middle;\n",
       "    }\n",
       "\n",
       "    .dataframe tbody tr th {\n",
       "        vertical-align: top;\n",
       "    }\n",
       "\n",
       "    .dataframe thead th {\n",
       "        text-align: right;\n",
       "    }\n",
       "</style>\n",
       "<table border=\"1\" class=\"dataframe\">\n",
       "  <thead>\n",
       "    <tr style=\"text-align: right;\">\n",
       "      <th></th>\n",
       "      <th>duration</th>\n",
       "      <th>first_blood_time</th>\n",
       "    </tr>\n",
       "  </thead>\n",
       "  <tbody>\n",
       "    <tr>\n",
       "      <th>0</th>\n",
       "      <td>33.4</td>\n",
       "      <td>3.4</td>\n",
       "    </tr>\n",
       "    <tr>\n",
       "      <th>1</th>\n",
       "      <td>37.4</td>\n",
       "      <td>1.4</td>\n",
       "    </tr>\n",
       "    <tr>\n",
       "      <th>2</th>\n",
       "      <td>30.5</td>\n",
       "      <td>0.0</td>\n",
       "    </tr>\n",
       "    <tr>\n",
       "      <th>3</th>\n",
       "      <td>34.8</td>\n",
       "      <td>2.0</td>\n",
       "    </tr>\n",
       "    <tr>\n",
       "      <th>4</th>\n",
       "      <td>34.7</td>\n",
       "      <td>0.2</td>\n",
       "    </tr>\n",
       "  </tbody>\n",
       "</table>\n",
       "</div>"
      ],
      "text/plain": [
       "   duration  first_blood_time\n",
       "0      33.4               3.4\n",
       "1      37.4               1.4\n",
       "2      30.5               0.0\n",
       "3      34.8               2.0\n",
       "4      34.7               0.2"
      ]
     },
     "execution_count": 398,
     "metadata": {},
     "output_type": "execute_result"
    }
   ],
   "source": [
    "data[['duration','first_blood_time']].head()"
   ]
  },
  {
   "cell_type": "raw",
   "metadata": {},
   "source": [
    "Change the True to 1,False to 0 in 'radiant_win' column.\n",
    "Add a column 'dire_win' which is opposite of 'radiant_win' column."
   ]
  },
  {
   "cell_type": "code",
   "execution_count": 399,
   "metadata": {},
   "outputs": [],
   "source": [
    "data['radiant_win'] = data['radiant_win'].replace(True,1)"
   ]
  },
  {
   "cell_type": "code",
   "execution_count": 400,
   "metadata": {},
   "outputs": [],
   "source": [
    "data['dire_win'] = data['radiant_win'].apply(lambda x:x==0)\n",
    "data['dire_win'] = data['dire_win'].replace(True,1)"
   ]
  },
  {
   "cell_type": "code",
   "execution_count": 401,
   "metadata": {},
   "outputs": [
    {
     "data": {
      "text/html": [
       "<div>\n",
       "<style scoped>\n",
       "    .dataframe tbody tr th:only-of-type {\n",
       "        vertical-align: middle;\n",
       "    }\n",
       "\n",
       "    .dataframe tbody tr th {\n",
       "        vertical-align: top;\n",
       "    }\n",
       "\n",
       "    .dataframe thead th {\n",
       "        text-align: right;\n",
       "    }\n",
       "</style>\n",
       "<table border=\"1\" class=\"dataframe\">\n",
       "  <thead>\n",
       "    <tr style=\"text-align: right;\">\n",
       "      <th></th>\n",
       "      <th>radiant_win</th>\n",
       "      <th>dire_win</th>\n",
       "    </tr>\n",
       "  </thead>\n",
       "  <tbody>\n",
       "    <tr>\n",
       "      <th>0</th>\n",
       "      <td>1.0</td>\n",
       "      <td>0.0</td>\n",
       "    </tr>\n",
       "    <tr>\n",
       "      <th>1</th>\n",
       "      <td>0.0</td>\n",
       "      <td>1.0</td>\n",
       "    </tr>\n",
       "    <tr>\n",
       "      <th>2</th>\n",
       "      <td>0.0</td>\n",
       "      <td>1.0</td>\n",
       "    </tr>\n",
       "    <tr>\n",
       "      <th>3</th>\n",
       "      <td>0.0</td>\n",
       "      <td>1.0</td>\n",
       "    </tr>\n",
       "    <tr>\n",
       "      <th>4</th>\n",
       "      <td>1.0</td>\n",
       "      <td>0.0</td>\n",
       "    </tr>\n",
       "  </tbody>\n",
       "</table>\n",
       "</div>"
      ],
      "text/plain": [
       "   radiant_win  dire_win\n",
       "0          1.0       0.0\n",
       "1          0.0       1.0\n",
       "2          0.0       1.0\n",
       "3          0.0       1.0\n",
       "4          1.0       0.0"
      ]
     },
     "execution_count": 401,
     "metadata": {},
     "output_type": "execute_result"
    }
   ],
   "source": [
    "data[['radiant_win','dire_win']].head()"
   ]
  },
  {
   "cell_type": "raw",
   "metadata": {},
   "source": [
    "The 'tower_status_dire', 'tower_status_radiant','barracks_status_dire' and 'barracks_status_radiant' represents the numbers of alive buildings of each team in bitmask to make data shorter.\n",
    "I changed binary value to decimal by below functions."
   ]
  },
  {
   "cell_type": "code",
   "execution_count": 402,
   "metadata": {},
   "outputs": [],
   "source": [
    "def Bit2Dec(n):\n",
    "\treturn str(bin(n))[2:].count('1')\n",
    "#change bit to decimal"
   ]
  },
  {
   "cell_type": "code",
   "execution_count": 403,
   "metadata": {},
   "outputs": [],
   "source": [
    "data['tower_status_radiant'] = data['tower_status_radiant'].apply(lambda x:Bit2Dec(x))\n",
    "data['tower_status_dire'] = data['tower_status_dire'].apply(lambda x:Bit2Dec(x))\n",
    "data['barracks_status_radiant'] = data['barracks_status_radiant'].apply(lambda x:Bit2Dec(x))\n",
    "data['barracks_status_dire'] = data['barracks_status_dire'].apply(lambda x:Bit2Dec(x))"
   ]
  },
  {
   "cell_type": "code",
   "execution_count": 5,
   "metadata": {},
   "outputs": [
    {
     "data": {
      "text/plain": [
       "barracks_status_dire       0\n",
       "barracks_status_radiant    0\n",
       "dire_score                 0\n",
       "duration                   0\n",
       "first_blood_time           0\n",
       "radiant_score              0\n",
       "radiant_win                0\n",
       "tower_status_dire          0\n",
       "tower_status_radiant       0\n",
       "dire_win                   0\n",
       "dtype: int64"
      ]
     },
     "execution_count": 5,
     "metadata": {},
     "output_type": "execute_result"
    }
   ],
   "source": [
    "# check if it has missing value\n",
    "data.isna().sum(axis=0)"
   ]
  },
  {
   "cell_type": "markdown",
   "metadata": {},
   "source": [
    "clean up!\n",
    "Then save the cleaned data to csv."
   ]
  },
  {
   "cell_type": "code",
   "execution_count": 405,
   "metadata": {},
   "outputs": [],
   "source": [
    "data.to_csv('dota2_data.csv',index=None)"
   ]
  },
  {
   "cell_type": "markdown",
   "metadata": {},
   "source": [
    "### Analysis"
   ]
  },
  {
   "cell_type": "code",
   "execution_count": 3,
   "metadata": {},
   "outputs": [],
   "source": [
    "data = pd.read_csv('dota2_data.csv')"
   ]
  },
  {
   "cell_type": "code",
   "execution_count": 261,
   "metadata": {},
   "outputs": [
    {
     "data": {
      "text/html": [
       "<div>\n",
       "<style scoped>\n",
       "    .dataframe tbody tr th:only-of-type {\n",
       "        vertical-align: middle;\n",
       "    }\n",
       "\n",
       "    .dataframe tbody tr th {\n",
       "        vertical-align: top;\n",
       "    }\n",
       "\n",
       "    .dataframe thead th {\n",
       "        text-align: right;\n",
       "    }\n",
       "</style>\n",
       "<table border=\"1\" class=\"dataframe\">\n",
       "  <thead>\n",
       "    <tr style=\"text-align: right;\">\n",
       "      <th></th>\n",
       "      <th>barracks_status_dire</th>\n",
       "      <th>barracks_status_radiant</th>\n",
       "      <th>dire_score</th>\n",
       "      <th>duration</th>\n",
       "      <th>first_blood_time</th>\n",
       "      <th>radiant_score</th>\n",
       "      <th>radiant_win</th>\n",
       "      <th>tower_status_dire</th>\n",
       "      <th>tower_status_radiant</th>\n",
       "      <th>dire_win</th>\n",
       "    </tr>\n",
       "  </thead>\n",
       "  <tbody>\n",
       "    <tr>\n",
       "      <th>0</th>\n",
       "      <td>0</td>\n",
       "      <td>6</td>\n",
       "      <td>16</td>\n",
       "      <td>33.4</td>\n",
       "      <td>3.4</td>\n",
       "      <td>37</td>\n",
       "      <td>1.0</td>\n",
       "      <td>0</td>\n",
       "      <td>10</td>\n",
       "      <td>0.0</td>\n",
       "    </tr>\n",
       "    <tr>\n",
       "      <th>1</th>\n",
       "      <td>4</td>\n",
       "      <td>4</td>\n",
       "      <td>43</td>\n",
       "      <td>37.4</td>\n",
       "      <td>1.4</td>\n",
       "      <td>35</td>\n",
       "      <td>0.0</td>\n",
       "      <td>7</td>\n",
       "      <td>3</td>\n",
       "      <td>1.0</td>\n",
       "    </tr>\n",
       "    <tr>\n",
       "      <th>2</th>\n",
       "      <td>6</td>\n",
       "      <td>0</td>\n",
       "      <td>31</td>\n",
       "      <td>30.5</td>\n",
       "      <td>0.0</td>\n",
       "      <td>15</td>\n",
       "      <td>0.0</td>\n",
       "      <td>11</td>\n",
       "      <td>0</td>\n",
       "      <td>1.0</td>\n",
       "    </tr>\n",
       "    <tr>\n",
       "      <th>3</th>\n",
       "      <td>6</td>\n",
       "      <td>0</td>\n",
       "      <td>48</td>\n",
       "      <td>34.8</td>\n",
       "      <td>2.0</td>\n",
       "      <td>16</td>\n",
       "      <td>0.0</td>\n",
       "      <td>9</td>\n",
       "      <td>0</td>\n",
       "      <td>1.0</td>\n",
       "    </tr>\n",
       "    <tr>\n",
       "      <th>4</th>\n",
       "      <td>2</td>\n",
       "      <td>6</td>\n",
       "      <td>21</td>\n",
       "      <td>34.7</td>\n",
       "      <td>0.2</td>\n",
       "      <td>53</td>\n",
       "      <td>1.0</td>\n",
       "      <td>1</td>\n",
       "      <td>8</td>\n",
       "      <td>0.0</td>\n",
       "    </tr>\n",
       "  </tbody>\n",
       "</table>\n",
       "</div>"
      ],
      "text/plain": [
       "   barracks_status_dire  barracks_status_radiant  dire_score  duration  \\\n",
       "0                     0                        6          16      33.4   \n",
       "1                     4                        4          43      37.4   \n",
       "2                     6                        0          31      30.5   \n",
       "3                     6                        0          48      34.8   \n",
       "4                     2                        6          21      34.7   \n",
       "\n",
       "   first_blood_time  radiant_score  radiant_win  tower_status_dire  \\\n",
       "0               3.4             37          1.0                  0   \n",
       "1               1.4             35          0.0                  7   \n",
       "2               0.0             15          0.0                 11   \n",
       "3               2.0             16          0.0                  9   \n",
       "4               0.2             53          1.0                  1   \n",
       "\n",
       "   tower_status_radiant  dire_win  \n",
       "0                    10       0.0  \n",
       "1                     3       1.0  \n",
       "2                     0       1.0  \n",
       "3                     0       1.0  \n",
       "4                     8       0.0  "
      ]
     },
     "execution_count": 261,
     "metadata": {},
     "output_type": "execute_result"
    }
   ],
   "source": [
    "data.head()"
   ]
  },
  {
   "cell_type": "code",
   "execution_count": 262,
   "metadata": {},
   "outputs": [
    {
     "data": {
      "text/html": [
       "<div>\n",
       "<style scoped>\n",
       "    .dataframe tbody tr th:only-of-type {\n",
       "        vertical-align: middle;\n",
       "    }\n",
       "\n",
       "    .dataframe tbody tr th {\n",
       "        vertical-align: top;\n",
       "    }\n",
       "\n",
       "    .dataframe thead th {\n",
       "        text-align: right;\n",
       "    }\n",
       "</style>\n",
       "<table border=\"1\" class=\"dataframe\">\n",
       "  <thead>\n",
       "    <tr style=\"text-align: right;\">\n",
       "      <th></th>\n",
       "      <th>barracks_status_dire</th>\n",
       "      <th>barracks_status_radiant</th>\n",
       "      <th>dire_score</th>\n",
       "      <th>duration</th>\n",
       "      <th>first_blood_time</th>\n",
       "      <th>radiant_score</th>\n",
       "      <th>radiant_win</th>\n",
       "      <th>tower_status_dire</th>\n",
       "      <th>tower_status_radiant</th>\n",
       "      <th>dire_win</th>\n",
       "    </tr>\n",
       "  </thead>\n",
       "  <tbody>\n",
       "    <tr>\n",
       "      <th>count</th>\n",
       "      <td>1400.000000</td>\n",
       "      <td>1400.000000</td>\n",
       "      <td>1400.000000</td>\n",
       "      <td>1400.000000</td>\n",
       "      <td>1400.000000</td>\n",
       "      <td>1400.000000</td>\n",
       "      <td>1400.000000</td>\n",
       "      <td>1400.000000</td>\n",
       "      <td>1400.000000</td>\n",
       "      <td>1400.000000</td>\n",
       "    </tr>\n",
       "    <tr>\n",
       "      <th>mean</th>\n",
       "      <td>3.494286</td>\n",
       "      <td>3.712143</td>\n",
       "      <td>35.390000</td>\n",
       "      <td>38.328571</td>\n",
       "      <td>1.578929</td>\n",
       "      <td>36.397143</td>\n",
       "      <td>0.551429</td>\n",
       "      <td>3.849286</td>\n",
       "      <td>4.564286</td>\n",
       "      <td>0.448571</td>\n",
       "    </tr>\n",
       "    <tr>\n",
       "      <th>std</th>\n",
       "      <td>2.407392</td>\n",
       "      <td>2.505319</td>\n",
       "      <td>14.125372</td>\n",
       "      <td>9.607816</td>\n",
       "      <td>1.365031</td>\n",
       "      <td>13.252299</td>\n",
       "      <td>0.497526</td>\n",
       "      <td>3.580105</td>\n",
       "      <td>3.956899</td>\n",
       "      <td>0.497526</td>\n",
       "    </tr>\n",
       "    <tr>\n",
       "      <th>min</th>\n",
       "      <td>0.000000</td>\n",
       "      <td>0.000000</td>\n",
       "      <td>0.000000</td>\n",
       "      <td>13.200000</td>\n",
       "      <td>0.000000</td>\n",
       "      <td>1.000000</td>\n",
       "      <td>0.000000</td>\n",
       "      <td>0.000000</td>\n",
       "      <td>0.000000</td>\n",
       "      <td>0.000000</td>\n",
       "    </tr>\n",
       "    <tr>\n",
       "      <th>25%</th>\n",
       "      <td>1.750000</td>\n",
       "      <td>2.000000</td>\n",
       "      <td>24.000000</td>\n",
       "      <td>31.700000</td>\n",
       "      <td>0.400000</td>\n",
       "      <td>27.000000</td>\n",
       "      <td>0.000000</td>\n",
       "      <td>0.000000</td>\n",
       "      <td>0.000000</td>\n",
       "      <td>0.000000</td>\n",
       "    </tr>\n",
       "    <tr>\n",
       "      <th>50%</th>\n",
       "      <td>4.000000</td>\n",
       "      <td>4.000000</td>\n",
       "      <td>36.000000</td>\n",
       "      <td>37.600000</td>\n",
       "      <td>1.400000</td>\n",
       "      <td>37.000000</td>\n",
       "      <td>1.000000</td>\n",
       "      <td>3.000000</td>\n",
       "      <td>4.000000</td>\n",
       "      <td>0.000000</td>\n",
       "    </tr>\n",
       "    <tr>\n",
       "      <th>75%</th>\n",
       "      <td>6.000000</td>\n",
       "      <td>6.000000</td>\n",
       "      <td>46.000000</td>\n",
       "      <td>44.225000</td>\n",
       "      <td>2.300000</td>\n",
       "      <td>46.000000</td>\n",
       "      <td>1.000000</td>\n",
       "      <td>7.000000</td>\n",
       "      <td>8.000000</td>\n",
       "      <td>1.000000</td>\n",
       "    </tr>\n",
       "    <tr>\n",
       "      <th>max</th>\n",
       "      <td>6.000000</td>\n",
       "      <td>6.000000</td>\n",
       "      <td>84.000000</td>\n",
       "      <td>76.700000</td>\n",
       "      <td>10.100000</td>\n",
       "      <td>74.000000</td>\n",
       "      <td>1.000000</td>\n",
       "      <td>11.000000</td>\n",
       "      <td>11.000000</td>\n",
       "      <td>1.000000</td>\n",
       "    </tr>\n",
       "  </tbody>\n",
       "</table>\n",
       "</div>"
      ],
      "text/plain": [
       "       barracks_status_dire  barracks_status_radiant   dire_score  \\\n",
       "count           1400.000000              1400.000000  1400.000000   \n",
       "mean               3.494286                 3.712143    35.390000   \n",
       "std                2.407392                 2.505319    14.125372   \n",
       "min                0.000000                 0.000000     0.000000   \n",
       "25%                1.750000                 2.000000    24.000000   \n",
       "50%                4.000000                 4.000000    36.000000   \n",
       "75%                6.000000                 6.000000    46.000000   \n",
       "max                6.000000                 6.000000    84.000000   \n",
       "\n",
       "          duration  first_blood_time  radiant_score  radiant_win  \\\n",
       "count  1400.000000       1400.000000    1400.000000  1400.000000   \n",
       "mean     38.328571          1.578929      36.397143     0.551429   \n",
       "std       9.607816          1.365031      13.252299     0.497526   \n",
       "min      13.200000          0.000000       1.000000     0.000000   \n",
       "25%      31.700000          0.400000      27.000000     0.000000   \n",
       "50%      37.600000          1.400000      37.000000     1.000000   \n",
       "75%      44.225000          2.300000      46.000000     1.000000   \n",
       "max      76.700000         10.100000      74.000000     1.000000   \n",
       "\n",
       "       tower_status_dire  tower_status_radiant     dire_win  \n",
       "count        1400.000000           1400.000000  1400.000000  \n",
       "mean            3.849286              4.564286     0.448571  \n",
       "std             3.580105              3.956899     0.497526  \n",
       "min             0.000000              0.000000     0.000000  \n",
       "25%             0.000000              0.000000     0.000000  \n",
       "50%             3.000000              4.000000     0.000000  \n",
       "75%             7.000000              8.000000     1.000000  \n",
       "max            11.000000             11.000000     1.000000  "
      ]
     },
     "execution_count": 262,
     "metadata": {},
     "output_type": "execute_result"
    }
   ],
   "source": [
    "data.describe() #describe the dataset"
   ]
  },
  {
   "cell_type": "markdown",
   "metadata": {},
   "source": [
    "from the descriptive statistic, the dataset seemed to be cleaned."
   ]
  },
  {
   "cell_type": "raw",
   "metadata": {},
   "source": [
    "I aim to analyse which fact is really influnce the match result(radiant_win)\n",
    "The information below shows the meanings of each column in the dataset."
   ]
  },
  {
   "cell_type": "raw",
   "metadata": {},
   "source": [
    "# There are two teams in Dota2 game: Radiant and Dire.\n",
    "# Player need to destroy opponent's base(behind the tower) to win.\n",
    "# A barrack is a building that will strengthen opponents after being destroyed.\n",
    "# A tower is a building that can attack and protect other building.\n",
    "\n",
    "barracks_status_dire: The number of barracks of Dire when game finish.(6 at the beginning)\n",
    "barracks_status_radiant: The number of Radiant of Radiant when game finish.(6 at the beginning)\n",
    "dire_score: Number of kills of Dire.\n",
    "radiant_score: Number of kills of Radiant.\n",
    "duration: Time of match.\n",
    "first_blood_time: The time of first kill.\n",
    "radiant_win: If Radiant win:1, Radiant lose:0.\n",
    "dire_win: If Dire win:1, Radiant lose:0.\n",
    "tower_status_dire: The number of towers of Dire when game finish.(11 at the beginning)\n",
    "tower_status_radiant: The number of towers of Radiant when game finish.(11 at the beginning)"
   ]
  },
  {
   "cell_type": "code",
   "execution_count": 5,
   "metadata": {},
   "outputs": [],
   "source": [
    "import matplotlib\n",
    "import matplotlib.pyplot as plt"
   ]
  },
  {
   "cell_type": "markdown",
   "metadata": {},
   "source": [
    "### bar chart"
   ]
  },
  {
   "cell_type": "code",
   "execution_count": 9,
   "metadata": {},
   "outputs": [
    {
     "data": {
      "image/png": "[encoded data removed]",
      "text/plain": [
       "<Figure size 432x288 with 1 Axes>"
      ]
     },
     "metadata": {},
     "output_type": "display_data"
    }
   ],
   "source": [
    "plt.figure()\n",
    "\n",
    "radiant_win = list(data['radiant_win'].values).count(1)\n",
    "dire_win = list(data['dire_win'].values).count(1)\n",
    "# fig, ax = plt.subplots()\n",
    "# plt.title(\"Win rate of dire and radiant\")\n",
    "\n",
    "# xticks = range(0,2)\n",
    "# ax.set_xticks(xticks)\n",
    "# ax.bar(xticks,[dire_win,radiant_win]) \n",
    "# ax.set_xticklabels(['dire_win','radiant_win'], rotation=45)\n",
    "\n",
    "labels = ['radiant_win','dire_win']\n",
    "sizes = [radiant_win,dire_win]\n",
    "plt.pie(sizes,labels=labels)\n",
    "\n",
    "plt.title(\"win matches of radiant and dire\")\n",
    "plt.show()\n"
   ]
  },
  {
   "cell_type": "markdown",
   "metadata": {},
   "source": [
    "Different teams as game designers should have the same winning percentage, but in my data set, Radiant's winning percentage is significantly higher than the Dire which prove that Radiant will have an advantage in some aspects."
   ]
  },
  {
   "cell_type": "code",
   "execution_count": 265,
   "metadata": {},
   "outputs": [
    {
     "data": {
      "image/png": "[encoded data removed]",
      "text/plain": [
       "<Figure size 720x1080 with 8 Axes>"
      ]
     },
     "metadata": {
      "needs_background": "light"
     },
     "output_type": "display_data"
    }
   ],
   "source": [
    "radiant_wins = data[data['radiant_win']==1] #the game radiant win\n",
    "dire_wins = data[data['dire_win']==1] #the game dire win\n",
    "\n",
    "\n",
    "fig, ax = plt.subplots(1,8,figsize=(10,15))\n",
    "\n",
    "axe1 = plt.subplot(811)\n",
    "axe1.hist(radiant_wins['radiant_score'],color='r',bins=20,label='radiant_win')\n",
    "plt.legend()\n",
    "plt.xlabel(\"number\")\n",
    "plt.ylabel(\"score\")\n",
    "\n",
    "axe1 = plt.subplot(812)\n",
    "axe1.hist(dire_wins['dire_score'],color='b',bins=20,label='dire_win')\n",
    "plt.legend()\n",
    "plt.xlabel(\"number\")\n",
    "plt.ylabel(\"score\")\n",
    "\n",
    "axe2 = plt.subplot(813)\n",
    "axe2.hist(radiant_wins['tower_status_radiant'],color='r',bins=11,label='radiant_win') \n",
    "plt.legend()\n",
    "plt.xlabel(\"number\")\n",
    "plt.ylabel(\"tower\")\n",
    "\n",
    "axe2 = plt.subplot(814)\n",
    "axe2.hist(dire_wins['tower_status_dire'],color='b',bins=11,label='dire_win') \n",
    "plt.legend()\n",
    "plt.xlabel(\"number\")\n",
    "plt.ylabel(\"tower\")\n",
    "\n",
    "axe3 = plt.subplot(815)\n",
    "axe3.hist(radiant_wins['barracks_status_radiant'],color='r',bins=7,label='radiant_win') \n",
    "plt.legend()\n",
    "plt.xlabel(\"number\")\n",
    "plt.ylabel(\"barracks\")\n",
    "\n",
    "axe3 = plt.subplot(816)\n",
    "axe3.hist(dire_wins['barracks_status_dire'],color='b',bins=7,label='dire_win') \n",
    "plt.legend()\n",
    "plt.xlabel(\"number\")\n",
    "plt.ylabel(\"barracks\")\n",
    "\n",
    "axe4 = plt.subplot(817)\n",
    "axe4.hist(radiant_wins['duration'],color='r',bins=20,label='radiant_win') \n",
    "plt.legend()\n",
    "plt.xlabel(\"number\")\n",
    "plt.ylabel(\"duration\")\n",
    "\n",
    "axe4 = plt.subplot(818)\n",
    "axe4.hist(dire_wins['duration'],color='b',bins=20,label='dire_win') \n",
    "plt.legend()\n",
    "plt.xlabel(\"number\")\n",
    "plt.ylabel(\"duration\")\n",
    "\n",
    "plt.show()"
   ]
  },
  {
   "cell_type": "markdown",
   "metadata": {},
   "source": [
    "Bar Graph show how the facts(Score,barracks,towers) and win(each team) interact. \n",
    "Score and duration doesn't seem to influence the game result. \n",
    "We need to destroy as many towers and barracks as possible in the game. Simultaneously, do more defencing."
   ]
  },
  {
   "cell_type": "code",
   "execution_count": 266,
   "metadata": {},
   "outputs": [
    {
     "data": {
      "image/png": "[encoded data removed]",
      "text/plain": [
       "<Figure size 360x360 with 1 Axes>"
      ]
     },
     "metadata": {
      "needs_background": "light"
     },
     "output_type": "display_data"
    }
   ],
   "source": [
    "fig, ax = plt.subplots(figsize=(5,5))\n",
    "\n",
    "ax.hist(data['first_blood_time'],bins=20)\n",
    "plt.xlabel(\"first_blood_time\")\n",
    "plt.ylabel(\"number of win\")\n",
    "plt.show()"
   ]
  },
  {
   "cell_type": "markdown",
   "metadata": {},
   "source": [
    "Bar Graph show how the first_blood_time and win interact. \n",
    "It seems that the sooner the first blood drops, the more possible the team win."
   ]
  },
  {
   "cell_type": "markdown",
   "metadata": {},
   "source": [
    "### scatter graph"
   ]
  },
  {
   "cell_type": "code",
   "execution_count": 267,
   "metadata": {},
   "outputs": [
    {
     "data": {
      "image/png": "[encoded data removed]",
      "text/plain": [
       "<Figure size 720x720 with 1 Axes>"
      ]
     },
     "metadata": {
      "needs_background": "light"
     },
     "output_type": "display_data"
    }
   ],
   "source": [
    "plt.figure(figsize=(10,10))\n",
    "plt.scatter(data['dire_score'],data['radiant_score'])\n",
    "plt.title(\"Dire kill and radiant kill\")\n",
    "plt.ylabel(\"radiant\")\n",
    "plt.xlabel(\"dire\")\n",
    "plt.show()"
   ]
  },
  {
   "cell_type": "markdown",
   "metadata": {},
   "source": [
    "The graph show the scores of two teams.\n",
    "Unexpectedly, the scores of the two teams are positively related.\n",
    "If one team is too aggressive, it will cause a strong resistance from the other team."
   ]
  },
  {
   "cell_type": "code",
   "execution_count": 283,
   "metadata": {},
   "outputs": [
    {
     "data": {
      "image/png": "[encoded data removed]",
      "text/plain": [
       "<Figure size 720x720 with 1 Axes>"
      ]
     },
     "metadata": {
      "needs_background": "light"
     },
     "output_type": "display_data"
    }
   ],
   "source": [
    "plt.figure(figsize=(10,10))\n",
    "plt.scatter(data['first_blood_time'],data['duration'])\n",
    "plt.title(\"duration and first_blood \\n\")\n",
    "plt.ylabel(\"duration\")\n",
    "plt.xlabel(\"first_blood_time\")\n",
    "plt.show()"
   ]
  },
  {
   "cell_type": "markdown",
   "metadata": {},
   "source": [
    "The sooner the first blood drops, the sooner the game ends\n"
   ]
  },
  {
   "cell_type": "markdown",
   "metadata": {},
   "source": [
    "### Dual Axis Line Graphs"
   ]
  },
  {
   "cell_type": "code",
   "execution_count": 303,
   "metadata": {},
   "outputs": [
    {
     "data": {
      "image/png": "[encoded data removed]",
      "text/plain": [
       "<Figure size 432x288 with 1 Axes>"
      ]
     },
     "metadata": {
      "needs_background": "light"
     },
     "output_type": "display_data"
    }
   ],
   "source": [
    "# calculate win rate during 1400 games\n",
    "radiant_win_rates=[]\n",
    "dire_win_rates=[]\n",
    "\n",
    "wins = 0\n",
    "i = 0 \n",
    "for r in data['radiant_win']:\n",
    "    i+=1\n",
    "    wins+=r\n",
    "    radiant_win_rates.append(wins/i)\n",
    "    \n",
    "wins = 0\n",
    "i = 0 \n",
    "for r in data['dire_win']:\n",
    "    i+=1\n",
    "    wins+=r\n",
    "    dire_win_rates.append(wins/i)\n",
    "\n",
    "fig = plt.figure()\n",
    "plt.plot(radiant_win_rates,label='radiant')\n",
    "\n",
    "ax1 = fig.add_subplot(111)\n",
    "ax1.plot(dire_win_rates,label='dire')\n",
    "plt.legend()\n",
    "\n",
    "plt.ylabel(\"rate\")\n",
    "plt.xlabel(\"index\")\n",
    "\n",
    "plt.show()"
   ]
  },
  {
   "cell_type": "markdown",
   "metadata": {},
   "source": [
    "### conclusion"
   ]
  },
  {
   "cell_type": "markdown",
   "metadata": {},
   "source": [
    "There seems to be injustice between dire and radiant in this game.\n",
    "The win rate of radiant is obviously higher than that of dire.\n",
    "In order to win the game, \n",
    "\n",
    "1.We better choose to play in radiant\n",
    "\n",
    "2.Strive for the first blood, and use this advantage to finish game early.\n",
    "\n",
    "3.Donot try to kill, because its useless for victory.\n",
    "\n",
    "4.Destroying towers and barracks will make game easier."
   ]
  }
 ],
 "metadata": {
  "kernelspec": {
   "display_name": "Python 3",
   "language": "python",
   "name": "python3"
  },
  "language_info": {
   "codemirror_mode": {
    "name": "ipython",
    "version": 3
   },
   "file_extension": ".py",
   "mimetype": "text/x-python",
   "name": "python",
   "nbconvert_exporter": "python",
   "pygments_lexer": "ipython3",
   "version": "3.6.3"
  }
 },
 "nbformat": 4,
 "nbformat_minor": 2
}
