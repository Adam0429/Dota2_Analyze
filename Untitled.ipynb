{
 "cells": [
  {
   "cell_type": "markdown",
   "metadata": {},
   "source": [
    "# COMP41680 -  API Assignment\n",
    "#### Wang Feihong \n",
    "#### Student Number  :  15209502"
   ]
  },
  {
   "cell_type": "markdown",
   "metadata": {},
   "source": [
    "### Task 1: Data identification\n",
    "### API Chosen:\n",
    "\n",
    "A single API that was chosen for this assignment was that provided by https://docs.opendota.com/\n",
    "\n",
    "The API is used to response the data of Dota2 which is my favorite game. \n",
    "\n",
    "I can improve the winning rate of Dota2 games by analysing Dota2 data.\n",
    "\n",
    "The API is freely available, no need to be used by API key, no restriction on times of daily using.\n",
    "\n",
    "In this assignment, i used two APIs.\n",
    "\n",
    "First one is https://api.opendota.com/api/players/{account_id}/matches which used to get match ids from the my account.\n",
    "    \n",
    "Then i used the game ids in second API: https://api.opendota.com/api/matches/{match_id},this API return many informations in the match.\n",
    "\n"
   ]
  },
  {
   "cell_type": "raw",
   "metadata": {},
   "source": []
  },
  {
   "cell_type": "markdown",
   "metadata": {},
   "source": [
    "#### Dota2 introduction\n",
    "Dota 2 is a multiplayer online battle arena (MOBA) video game developed and published by Valve. Dota 2 is played in matches between two teams(Radiant and Dire) of five players, with each team occupying and defending their own separate base on the map. Each of the ten players independently controls a powerful character, known as a \"hero\", who all have unique abilities and differing styles of play. During a match, players collect experience points and items for their heroes to successfully defeat the opposing team's heroes in player versus player combat.Each team has 11 towers to protect the base in front of the base. A team wins by being the first to destroy the other team's \"Ancient\", a large structure located within their base."
   ]
  },
  {
   "cell_type": "markdown",
   "metadata": {},
   "source": [
    "### Task 2: Data collection"
   ]
  },
  {
   "cell_type": "code",
   "execution_count": 4,
   "metadata": {},
   "outputs": [],
   "source": [
    "import requests\n",
    "import pandas as pd \n",
    "from tqdm import tqdm"
   ]
  },
  {
   "cell_type": "markdown",
   "metadata": {},
   "source": [
    "The following 2 functions were written to use the 2 APIs.\n",
    "\n",
    "function getMatchId is used to get match ids from the one account. \n",
    "\n",
    "function getMatchData is used to get match informations which used the result of getMatchId."
   ]
  },
  {
   "cell_type": "code",
   "execution_count": 9,
   "metadata": {},
   "outputs": [],
   "source": [
    "def getMatchId(user_id,number):\n",
    "\turl = 'https://api.opendota.com/api/players/%s/Matches?limit=%s'%(user_id,str(number)) \n",
    "    # number varibale is used to indicate the number of matches will be returned\n",
    "\tmatches = requests.get(url).json()\n",
    "\tmatch_ids = [match['match_id'] for match in matches]\n",
    "\treturn match_ids\n",
    "\n",
    "def getMatchData(match_id):\n",
    "\tmatch_url = 'https://api.opendota.com/api/matches/%s'%(match_id)\n",
    "\tmatch_data = requests.get(match_url).json()\n",
    "\treturn match_data"
   ]
  },
  {
   "cell_type": "code",
   "execution_count": 8,
   "metadata": {},
   "outputs": [],
   "source": [
    "my_id = '904606353' # my Dota2 account id"
   ]
  },
  {
   "cell_type": "code",
   "execution_count": 10,
   "metadata": {},
   "outputs": [
    {
     "name": "stderr",
     "output_type": "stream",
     "text": [
      "100%|██████████| 1400/1400 [15:29<00:00,  1.70it/s]\n"
     ]
    }
   ],
   "source": [
    "match_ids = getMatchId(my_id,1400)\n",
    "raw_data = []\n",
    "for match_id in tqdm(match_ids):\n",
    "\traw_data.append(getMatchData(match_id))"
   ]
  },
  {
   "cell_type": "code",
   "execution_count": 11,
   "metadata": {},
   "outputs": [],
   "source": [
    "# save data to csv file\n",
    "df = pd.DataFrame(raw_data,index=None)\n",
    "df.to_csv('raw_data.csv')"
   ]
  },
  {
   "cell_type": "code",
   "execution_count": null,
   "metadata": {},
   "outputs": [],
   "source": []
  }
 ],
 "metadata": {
  "kernelspec": {
   "display_name": "Python 3",
   "language": "python",
   "name": "python3"
  },
  "language_info": {
   "codemirror_mode": {
    "name": "ipython",
    "version": 3
   },
   "file_extension": ".py",
   "mimetype": "text/x-python",
   "name": "python",
   "nbconvert_exporter": "python",
   "pygments_lexer": "ipython3",
   "version": "3.6.3"
  }
 },
 "nbformat": 4,
 "nbformat_minor": 2
}
